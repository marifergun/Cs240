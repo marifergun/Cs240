{
 "cells": [
  {
   "cell_type": "code",
   "execution_count": 2,
   "metadata": {
    "collapsed": true
   },
   "outputs": [],
   "source": [
    "import nsfg\n",
    "%matplotlib inline\n",
    "pres = nsfg.ReadFemResp()"
   ]
  },
  {
   "cell_type": "code",
   "execution_count": 3,
   "metadata": {
    "collapsed": false
   },
   "outputs": [
    {
     "name": "stdout",
     "output_type": "stream",
     "text": [
      "9.0 1\n",
      "11.0 2\n",
      "12.0 1\n",
      "13.0 3\n",
      "14.0 18\n",
      "15.0 50\n",
      "16.0 115\n",
      "17.0 173\n",
      "18.0 342\n",
      "19.0 328\n",
      "20.0 353\n",
      "21.0 364\n",
      "22.0 381\n",
      "23.0 359\n",
      "24.0 285\n",
      "25.0 261\n",
      "26.0 233\n",
      "27.0 177\n",
      "28.0 150\n",
      "29.0 129\n",
      "30.0 97\n",
      "31.0 72\n",
      "32.0 52\n",
      "33.0 49\n",
      "34.0 29\n",
      "35.0 35\n",
      "36.0 14\n",
      "37.0 14\n",
      "38.0 10\n",
      "39.0 10\n",
      "40.0 7\n",
      "41.0 6\n",
      "42.0 3\n",
      "43.0 3\n"
     ]
    }
   ],
   "source": [
    "import thinkstats2\n",
    "fmar1age = pres.fmar1age\n",
    "hist = thinkstats2.Hist(fmar1age, label=\"fmar1age\")\n",
    "for val,freq in hist.Items():\n",
    "    print val, freq"
   ]
  },
  {
   "cell_type": "code",
   "execution_count": 4,
   "metadata": {
    "collapsed": false
   },
   "outputs": [
    {
     "data": {
      "image/png": "[encoded data removed]",
      "text/plain": [
       "<matplotlib.figure.Figure at 0xb38fbe0>"
      ]
     },
     "metadata": {},
     "output_type": "display_data"
    }
   ],
   "source": [
    "import thinkplot\n",
    "width = 0.5\n",
    "thinkplot.Hist(hist, width = width)\n",
    "thinkplot.Config(xlabel=\"Age\", ylabel=\"Count\")"
   ]
  },
  {
   "cell_type": "code",
   "execution_count": 5,
   "metadata": {
    "collapsed": false
   },
   "outputs": [
    {
     "name": "stdout",
     "output_type": "stream",
     "text": [
      "0 3517\n",
      "1 3436\n",
      "2 582\n",
      "3 90\n",
      "4 15\n",
      "5 3\n"
     ]
    }
   ],
   "source": [
    "fmarno = pres.fmarno\n",
    "hist1 = thinkstats2.Hist(fmarno, label=\"fmarno\")\n",
    "for val, freq in hist1.Items():\n",
    "    print val, freq\n"
   ]
  },
  {
   "cell_type": "code",
   "execution_count": 6,
   "metadata": {
    "collapsed": false
   },
   "outputs": [
    {
     "data": {
      "image/png": "[encoded data removed]",
      "text/plain": [
       "<matplotlib.figure.Figure at 0x15cd3748>"
      ]
     },
     "metadata": {},
     "output_type": "display_data"
    }
   ],
   "source": [
    "width = 0.5\n",
    "thinkplot.Hist(hist1, width = width)\n",
    "thinkplot.Config(xlabel=\"number of marigase\", ylabel=\"count\")"
   ]
  },
  {
   "cell_type": "code",
   "execution_count": 98,
   "metadata": {
    "collapsed": false
   },
   "outputs": [
    {
     "name": "stdout",
     "output_type": "stream",
     "text": [
      "total income for number of mariges 0\n",
      "14    387\n",
      "7     300\n",
      "8     288\n",
      "9     276\n",
      "6     268\n",
      "11    257\n",
      "12    252\n",
      "4     239\n",
      "5     238\n",
      "13    236\n",
      "10    215\n",
      "1     205\n",
      "2     193\n",
      "3     163\n",
      "Name: totincr, dtype: int64\n",
      "total income for number of mariges 1\n",
      "14    656\n",
      "12    329\n",
      "13    321\n",
      "11    320\n",
      "9     272\n",
      "8     262\n",
      "6     247\n",
      "7     234\n",
      "10    206\n",
      "5     175\n",
      "4     154\n",
      "3      93\n",
      "2      90\n",
      "1      77\n",
      "Name: totincr, dtype: int64\n",
      "total income for number of mariges 2\n",
      "14    101\n",
      "12     64\n",
      "11     62\n",
      "13     58\n",
      "9      50\n",
      "8      46\n",
      "10     40\n",
      "7      37\n",
      "6      36\n",
      "5      28\n",
      "4      25\n",
      "2      17\n",
      "1      12\n",
      "3       6\n",
      "Name: totincr, dtype: int64\n",
      "total income for number of mariges 3\n",
      "14    12\n",
      "7     11\n",
      "12    10\n",
      "8      8\n",
      "11     7\n",
      "10     7\n",
      "6      7\n",
      "13     6\n",
      "9      5\n",
      "1      5\n",
      "5      4\n",
      "3      4\n",
      "4      3\n",
      "2      1\n",
      "Name: totincr, dtype: int64\n",
      "total income for number of mariges 4\n",
      "14    3\n",
      "9     3\n",
      "13    2\n",
      "12    2\n",
      "8     2\n",
      "11    1\n",
      "7     1\n",
      "6     1\n",
      "Name: totincr, dtype: int64\n",
      "total income for number of mariges 5\n",
      "14    1\n",
      "9     1\n",
      "12    1\n",
      "Name: totincr, dtype: int64\n"
     ]
    }
   ],
   "source": [
    "totincr = pres.totincr\n",
    "hist2 = thinkstats2.Hist(pres[fmarno < 6].totincr, label=\"number of marriages\")\n",
    "\n",
    "for i in range(0,6):\n",
    "    print \"total income for number of mariges\", i\n",
    "    print pres[fmarno == i].totincr.value_counts()\n"
   ]
  },
  {
   "cell_type": "code",
   "execution_count": 95,
   "metadata": {
    "collapsed": false
   },
   "outputs": [
    {
     "data": {
      "image/png": "[encoded data removed]",
      "text/plain": [
       "<matplotlib.figure.Figure at 0xb447048>"
      ]
     },
     "metadata": {},
     "output_type": "display_data"
    }
   ],
   "source": [
    "thinkplot.Hist(hist2, width = width)\n",
    "thinkplot.Config(xlabel=\"number of mariages\", ylabel=\"total income\")"
   ]
  },
  {
   "cell_type": "code",
   "execution_count": 96,
   "metadata": {
    "collapsed": false
   },
   "outputs": [
    {
     "data": {
      "image/png": "[encoded data removed]",
      "text/plain": [
       "<matplotlib.figure.Figure at 0x14f30668>"
      ]
     },
     "metadata": {},
     "output_type": "display_data"
    }
   ],
   "source": [
    "nevermarried = pres[fmarno == 0]\n",
    "married = pres[fmarno >= 1]\n",
    "hist3 = thinkstats2.Hist(nevermarried.totincr, label=\"never married\")\n",
    "hist4 = thinkstats2.Hist(married.totincr, label=\"married\")\n",
    "thinkplot.PrePlot(2)\n",
    "thinkplot.Hist(hist3, align=\"right\", width=width)\n",
    "thinkplot.Hist(hist4, align=\"left\", width=width)\n",
    "thinkplot.Config(xlabel=\"total income\", ylabel=\"count\")"
   ]
  },
  {
   "cell_type": "code",
   "execution_count": 109,
   "metadata": {
    "collapsed": false
   },
   "outputs": [
    {
     "name": "stdout",
     "output_type": "stream",
     "text": [
      "Standard deviation of nevermarrieds total income is 3.98080879683\n",
      "Standard deviation of marrieds total income is 3.7146524958\n",
      "Mean of nevermarrieds total income is 8.02075632641\n",
      "Mean of marrieds total income is 9.49515269026\n",
      "Variance of nevermarrieds total income is 15.846838677\n",
      "Variance of marrieds total income is 13.7986431646\n"
     ]
    }
   ],
   "source": [
    "std = nevermarried.totincr.std()\n",
    "stdm = married.totincr.std() \n",
    "mean = nevermarried.totincr.mean()\n",
    "meanm = married.totincr.mean()\n",
    "var = nevermarried.totincr.var()\n",
    "varm = married.totincr.var()\n",
    "print \"Standard deviation of nevermarrieds total income is %s\" %(std)\n",
    "print \"Standard deviation of marrieds total income is %s\" %(stdm)\n",
    "print \"Mean of nevermarrieds total income is %s\" %(mean)\n",
    "print \"Mean of marrieds total income is %s\" %(meanm)\n",
    "print \"Variance of nevermarrieds total income is %s\" %(var)\n",
    "print \"Variance of marrieds total income is %s\" %(varm)\n",
    "                                                           "
   ]
  },
  {
   "cell_type": "code",
   "execution_count": null,
   "metadata": {
    "collapsed": false
   },
   "outputs": [],
   "source": [
    "\n",
    "                                                           \n"
   ]
  },
  {
   "cell_type": "code",
   "execution_count": null,
   "metadata": {
    "collapsed": true
   },
   "outputs": [],
   "source": []
  }
 ],
 "metadata": {
  "kernelspec": {
   "display_name": "Python 2",
   "language": "python",
   "name": "python2"
  },
  "language_info": {
   "codemirror_mode": {
    "name": "ipython",
    "version": 2
   },
   "file_extension": ".py",
   "mimetype": "text/x-python",
   "name": "python",
   "nbconvert_exporter": "python",
   "pygments_lexer": "ipython2",
   "version": "2.7.13"
  }
 },
 "nbformat": 4,
 "nbformat_minor": 2
}
